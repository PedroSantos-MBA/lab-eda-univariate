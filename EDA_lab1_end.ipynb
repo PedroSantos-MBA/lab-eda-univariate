{
 "cells": [
  {
   "cell_type": "code",
   "execution_count": 1,
   "id": "ee9ff408",
   "metadata": {},
   "outputs": [],
   "source": [
    "import pandas as pd\n",
    "import numpy as np\n",
    "import seaborn as sns\n",
    "import matplotlib.pyplot as plt"
   ]
  },
  {
   "cell_type": "code",
   "execution_count": 2,
   "id": "0a936244",
   "metadata": {},
   "outputs": [
    {
     "data": {
      "application/vnd.microsoft.datawrangler.viewer.v0+json": {
       "columns": [
        {
         "name": "index",
         "rawType": "int64",
         "type": "integer"
        },
        {
         "name": "uid",
         "rawType": "int64",
         "type": "integer"
        },
        {
         "name": "asin",
         "rawType": "object",
         "type": "string"
        },
        {
         "name": "title",
         "rawType": "object",
         "type": "string"
        },
        {
         "name": "stars",
         "rawType": "float64",
         "type": "float"
        },
        {
         "name": "reviews",
         "rawType": "int64",
         "type": "integer"
        },
        {
         "name": "price",
         "rawType": "float64",
         "type": "float"
        },
        {
         "name": "isBestSeller",
         "rawType": "bool",
         "type": "boolean"
        },
        {
         "name": "boughtInLastMonth",
         "rawType": "int64",
         "type": "integer"
        },
        {
         "name": "category",
         "rawType": "object",
         "type": "string"
        }
       ],
       "ref": "e78e4c07-a5c3-405f-9097-bf7a5a86e284",
       "rows": [
        [
         "0",
         "1",
         "B09B96TG33",
         "Echo Dot (5th generation, 2022 release) | Big vibrant sound Wi-Fi and Bluetooth smart speaker with Alexa | Charcoal",
         "4.7",
         "15308",
         "21.99",
         "False",
         "0",
         "Hi-Fi Speakers"
        ],
        [
         "1",
         "2",
         "B01HTH3C8S",
         "Anker Soundcore mini, Super-Portable Bluetooth Speaker with 15-Hour Playtime, 66-Foot Bluetooth Range, Wireless Speaker with Enhanced Bass, Noise-Cancelling Microphone, for Outdoor, Travel, Home",
         "4.7",
         "98099",
         "23.99",
         "True",
         "0",
         "Hi-Fi Speakers"
        ],
        [
         "2",
         "3",
         "B09B8YWXDF",
         "Echo Dot (5th generation, 2022 release) | Big vibrant sound Wi-Fi and Bluetooth smart speaker with Alexa | Deep Sea Blue",
         "4.7",
         "15308",
         "21.99",
         "False",
         "0",
         "Hi-Fi Speakers"
        ],
        [
         "3",
         "4",
         "B09B8T5VGV",
         "Echo Dot with clock (5th generation, 2022 release) | Bigger vibrant sound Wi-Fi and Bluetooth smart speaker and Alexa | Cloud Blue",
         "4.7",
         "7205",
         "31.99",
         "False",
         "0",
         "Hi-Fi Speakers"
        ],
        [
         "4",
         "5",
         "B09WX6QD65",
         "Introducing Echo Pop | Full sound compact Wi-Fi and Bluetooth smart speaker with Alexa | Charcoal",
         "4.6",
         "1881",
         "17.99",
         "False",
         "0",
         "Hi-Fi Speakers"
        ],
        [
         "5",
         "6",
         "B09B97WSLF",
         "Echo Dot with clock (5th generation, 2022 release) | Bigger vibrant sound Wi-Fi and Bluetooth smart speaker and Alexa | Glacier White",
         "4.7",
         "7205",
         "31.99",
         "False",
         "0",
         "Hi-Fi Speakers"
        ],
        [
         "6",
         "7",
         "B09B9615X2",
         "Echo Dot (5th generation, 2022 release) | Big vibrant sound Wi-Fi and Bluetooth smart speaker with Alexa | Glacier White",
         "4.7",
         "15308",
         "21.99",
         "False",
         "0",
         "Hi-Fi Speakers"
        ],
        [
         "7",
         "8",
         "B01MTB55WH",
         "Anker Soundcore 2 Portable Bluetooth Speaker with 12W Stereo Sound, BassUp, IPX7 Waterproof, 24-Hour Playtime, Wireless Stereo Pairing, Speaker for Home, Outdoors, Travel",
         "4.7",
         "103673",
         "39.99",
         "False",
         "0",
         "Hi-Fi Speakers"
        ],
        [
         "8",
         "9",
         "B016MO90GW",
         "Bluetooth Speaker, Anker Soundcore Speaker Upgraded Version with 24H Playtime, IPX5 Waterproof, Stereo Sound, 66ft Bluetooth Range, Built-In Mic, Portable Wireless Speaker for iPhone Samsung",
         "4.7",
         "29909",
         "29.99",
         "False",
         "0",
         "Hi-Fi Speakers"
        ],
        [
         "9",
         "10",
         "B09ZQF5GZW",
         "RIENOK Bluetooth Speaker Portable Wireless Bluetooth Speaker with 30W Enhanced Bass IPX7 Waterproof Bluetooth 5.3 Outdoor Speaker for Travel Sport",
         "4.5",
         "16014",
         "29.99",
         "False",
         "0",
         "Hi-Fi Speakers"
        ],
        [
         "10",
         "11",
         "B08VDNCZT9",
         "JBL Charge 5 - Portable Bluetooth Speaker with deep bass, IP67 waterproof and dustproof, 20 hours of playtime, built-in powerbank, in black",
         "4.8",
         "11920",
         "139.0",
         "False",
         "0",
         "Hi-Fi Speakers"
        ],
        [
         "11",
         "12",
         "B09ZX9NP2W",
         "Introducing Echo Pop | Full sound compact Wi-Fi and Bluetooth smart speaker with Alexa | Lavender Bloom",
         "4.6",
         "1881",
         "17.99",
         "False",
         "0",
         "Hi-Fi Speakers"
        ],
        [
         "12",
         "13",
         "B09ZXDMNCY",
         "Introducing Echo Pop | Full sound compact Wi-Fi and Bluetooth smart speaker with Alexa | Glacier White",
         "4.6",
         "1881",
         "17.99",
         "False",
         "0",
         "Hi-Fi Speakers"
        ],
        [
         "13",
         "14",
         "B09B2R18PG",
         "All-new Echo Show 5 (3rd Gen, 2023 release) | Smart display and alarm clock with clearer sound | Charcoal",
         "4.5",
         "726",
         "49.99",
         "False",
         "0",
         "Hi-Fi Speakers"
        ],
        [
         "14",
         "15",
         "B084TNK1NL",
         "Echo Show 8 | 2nd generation (2021 release), HD smart display with Alexa and 13 MP camera | Charcoal",
         "4.7",
         "18333",
         "64.99",
         "False",
         "0",
         "Hi-Fi Speakers"
        ],
        [
         "15",
         "16",
         "B09B97BPSW",
         "Echo Dot Kids (5th generation, 2022 release) | Wi-Fi and Bluetooth smart speaker with Alexa | Designed for kids, with parental controls | Owl",
         "4.6",
         "1017",
         "26.99",
         "True",
         "0",
         "Hi-Fi Speakers"
        ],
        [
         "16",
         "17",
         "B08YF1T4SW",
         "Sony SRS-XB13 - Compact and Portable Waterproof Wireless Bluetooth speaker with EXTRA BASS - Black",
         "4.6",
         "6367",
         "39.0",
         "False",
         "0",
         "Hi-Fi Speakers"
        ],
        [
         "17",
         "18",
         "B09B8XRZYB",
         "Echo Dot Kids (5th generation, 2022 release) | Wi-Fi and Bluetooth smart speaker with Alexa | Designed for kids, with parental controls | Dragon",
         "4.6",
         "1017",
         "26.99",
         "True",
         "0",
         "Hi-Fi Speakers"
        ],
        [
         "18",
         "19",
         "B09B2SS2G1",
         "All-new Echo Show 5 (3rd Gen, 2023 release) | Smart display and alarm clock with clearer sound | White",
         "4.5",
         "726",
         "49.99",
         "False",
         "0",
         "Hi-Fi Speakers"
        ],
        [
         "19",
         "20",
         "B07NQCKJSH",
         "Echo Studio | Our best-sounding Wi-Fi and Bluetooth smart speaker ever | Dolby Atmos, spatial audio, smart home hub and Alexa | Charcoal",
         "4.5",
         "14222",
         "164.99",
         "False",
         "0",
         "Hi-Fi Speakers"
        ],
        [
         "20",
         "21",
         "B08BCHKY52",
         "soundcore 3 Bluetooth Speaker by Anker with Stereo Sound, Pure Titanium Diaphragm Drivers, 24H Playtime, IPX7 Waterproof, Bluetooth 5.0, PartyCast Technology, BassUp, App, Custom EQ",
         "4.6",
         "9273",
         "55.99",
         "False",
         "0",
         "Hi-Fi Speakers"
        ],
        [
         "21",
         "22",
         "B08FB2H6Y4",
         "JBL GO 3 - Wireless Bluetooth portable speaker with integrated loop for travel with USB C charging cable, in black",
         "4.8",
         "59668",
         "34.8",
         "False",
         "0",
         "Hi-Fi Speakers"
        ],
        [
         "22",
         "23",
         "B084TNGZHJ",
         "Echo Show 8 | 2nd generation (2021 release), HD smart display with Alexa and 13 MP camera | Glacier White",
         "4.7",
         "18333",
         "64.99",
         "False",
         "0",
         "Hi-Fi Speakers"
        ],
        [
         "23",
         "24",
         "B09HGRXXTM",
         "JBL Flip 6 Portable Bluetooth Speaker with 2-way speaker system and powerful JBL Original Pro Sound, up to 12 hours of playtime, in black",
         "4.7",
         "8700",
         "98.95",
         "False",
         "0",
         "Hi-Fi Speakers"
        ],
        [
         "24",
         "25",
         "B09B2RV31Z",
         "All-new Echo Show 5 (3rd generation) I Compact smart touchscreen with Alexa for smart home control and more I Cloud blue",
         "4.5",
         "726",
         "49.99",
         "False",
         "0",
         "Hi-Fi Speakers"
        ],
        [
         "25",
         "26",
         "B0BLS36M5R",
         "All-new Echo Show 8 | 3rd generation (2023 release), HD smart touchscreen with spatial audio, smart home hub and Alexa, Charcoal",
         "0.0",
         "0",
         "149.99",
         "False",
         "0",
         "Hi-Fi Speakers"
        ],
        [
         "26",
         "27",
         "B07PDJ9JFF",
         "Echo Flex – Voice control smart home devices with Alexa",
         "4.5",
         "21614",
         "9.99",
         "False",
         "0",
         "Hi-Fi Speakers"
        ],
        [
         "27",
         "28",
         "B07QK18BNY",
         "JBL FLIP 5 Portable Waterproof Bluetooth Speaker blue",
         "4.7",
         "6387",
         "79.99",
         "False",
         "0",
         "Hi-Fi Speakers"
        ],
        [
         "28",
         "29",
         "B096G3R7C3",
         "JBL PartyBox110 Portable Indoor and Outdoor Party Speaker with Built-In Lights, IPX4 Splashproof Design, Deep Bass and 12 Hours of Playtime, in Black",
         "4.8",
         "153",
         "289.0",
         "False",
         "0",
         "Hi-Fi Speakers"
        ],
        [
         "29",
         "30",
         "B01N4V4X5M",
         "Upgraded, Anker Soundcore Boost Bluetooth Speaker with Well-Balanced Sound, BassUp, 12H Playtime, USB-C, IPX7 Waterproof, with Customizable EQ via App, Wireless Stereo Pairing",
         "4.7",
         "29387",
         "39.98",
         "False",
         "600",
         "Hi-Fi Speakers"
        ],
        [
         "30",
         "31",
         "B08QF9F8BC",
         "Ortizan Bluetooth Speaker, Portable Wireless Bluetooth Speakers With Led Light, Louder Volume & Enhanced Bass, IPX7 Waterproof, 30H Playtime, Durable Loud Outdoor Speaker for Travel, Sport",
         "4.4",
         "17612",
         "35.99",
         "False",
         "0",
         "Hi-Fi Speakers"
        ],
        [
         "31",
         "32",
         "B08MQRDDYB",
         "Echo Show 15 | Full HD 15.6\" smart display with Alexa and Fire TV built in, remote not included",
         "4.4",
         "2616",
         "199.99",
         "False",
         "0",
         "Hi-Fi Speakers"
        ],
        [
         "32",
         "33",
         "B07WVP26FR",
         "Kolaura Portable Wireless Speaker, Bluetooth 5.0 Speaker with 3D Stereo HiFi Bass, 1500mAh Battery, 12 Hour Playtime (Blue)",
         "4.4",
         "2493",
         "15.99",
         "False",
         "1000",
         "Hi-Fi Speakers"
        ],
        [
         "33",
         "34",
         "B079DD19ZT",
         "Sony HT-SF150 2ch Single Soundbar with Bluetooth and S-Force Front Surround - Black",
         "4.3",
         "2391",
         "128.0",
         "False",
         "0",
         "Hi-Fi Speakers"
        ],
        [
         "34",
         "35",
         "B0BXQ1Q6NK",
         "Samsung Q990C Soundbar Speaker (2023) - 22 Speaker Home Sound System With Wireless Dolby Atmos Rear Speakers And Wireless Subwoofer, Alexa Built In, Smart Surround Sound, Bluetooth, WiFi & Airplay",
         "4.8",
         "13",
         "959.99",
         "False",
         "0",
         "Hi-Fi Speakers"
        ],
        [
         "35",
         "36",
         "B099TJGJ91",
         "Bose SoundLink Flex Bluetooth Portable Speaker, Wireless Waterproof Speaker for Outdoor Travel—Black",
         "4.8",
         "11692",
         "149.0",
         "False",
         "0",
         "Hi-Fi Speakers"
        ],
        [
         "36",
         "37",
         "B08L84ST93",
         "Bose Solo Soundbar Series II - TV Speaker with Bluetooth connectivity",
         "4.6",
         "2799",
         "169.0",
         "True",
         "0",
         "Hi-Fi Speakers"
        ],
        [
         "37",
         "38",
         "B0BXQ3DQW5",
         "Samsung Q700C Soundbar Speaker (2023) - 9 Speaker Home Sound System With Adaptive Sound, Dolby Atmos & Wireless Subwoofer, Night & Voice Enhancement, Smart Surround Sound, Bluetooth, WiFi & Airplay",
         "4.7",
         "15",
         "368.99",
         "False",
         "0",
         "Hi-Fi Speakers"
        ],
        [
         "38",
         "39",
         "B0B3XX8P9C",
         "JBL Flip Essential 2 Portable Bluetooth Speaker with Rechargeable Battery, IPX7 Waterproof, 10h Battery Life, Black",
         "4.7",
         "2452",
         "74.99",
         "False",
         "0",
         "Hi-Fi Speakers"
        ],
        [
         "39",
         "40",
         "B08HRWSYH6",
         "JBL Clip 4 - Bluetooth portable speaker with integrated carabiner, waterproof and dustproof, in black",
         "4.8",
         "8625",
         "39.95",
         "False",
         "0",
         "Hi-Fi Speakers"
        ],
        [
         "40",
         "41",
         "B084P3KP2R",
         "Echo Show 10 (3rd generation) | HD smart display with motion and Alexa, Charcoal Fabric",
         "4.5",
         "5053",
         "184.99",
         "False",
         "0",
         "Hi-Fi Speakers"
        ],
        [
         "41",
         "42",
         "B00ANI7HI2",
         "Jabra Speak 510 Speaker — Portable Bluetooth Speaker, Conference Speaker — Connects to Laptops, Smartphones and Tablets — USB Plug",
         "4.7",
         "5422",
         "95.0",
         "False",
         "0",
         "Hi-Fi Speakers"
        ],
        [
         "42",
         "43",
         "B08YDZRXGN",
         "Sony SRS-XB13 - Compact & Portable Waterproof Wireless Bluetooth® speaker with EXTRA BASS™ - Blue",
         "4.7",
         "2776",
         "39.99",
         "False",
         "0",
         "Hi-Fi Speakers"
        ],
        [
         "43",
         "44",
         "B081RQP7B9",
         "W-KING Bluetooth Speaker, 30W Portable Wireless Loud Speakers, IPX6 Waterproof Outdoor Speaker with Punchy Bass, 24H Playtime, EQ, AUX, TF Card, USB Playback -Powerful Speaker for Home, Party, Outdoor",
         "4.6",
         "5622",
         "38.39",
         "False",
         "0",
         "Hi-Fi Speakers"
        ],
        [
         "44",
         "45",
         "B085G58KWT",
         "Echo (4th generation) | Premium sound Wi-Fi and Bluetooth smart speaker with Dolby, smart home hub and Alexa | Charcoal",
         "4.7",
         "38692",
         "49.99",
         "False",
         "0",
         "Hi-Fi Speakers"
        ],
        [
         "45",
         "46",
         "B07F9NGRKF",
         "EWA Travel Case Packed, A106 Pro Wireless Mini Bluetooth Speaker with Custom Bass Radiator. IP67 Waterproof, Small But Loud, Portable Speakers for Car, Bike, Outdoors, Shower (Black)",
         "4.6",
         "40628",
         "17.99",
         "False",
         "0",
         "Hi-Fi Speakers"
        ],
        [
         "46",
         "47",
         "B08LQNL42Z",
         "soundcore Anker Motion Boom Portable Bluetooth Speaker with Titanium Drivers, BassUp Technology, IPX7 Waterproof, 24H Playtime, App, Bluetooth 5.0, for Home, Party, Outdoors",
         "4.7",
         "18958",
         "89.99",
         "False",
         "0",
         "Hi-Fi Speakers"
        ],
        [
         "47",
         "48",
         "B07PCHL3ZZ",
         "Bedside Lamp with Alarm Clock Bluetooth Speaker, Night Light Bedroom Decor RGB Color Changing LED Mood Bedroom Table Lamp Birthday Gifts for her for Teenage Girls Boy, Mum Gifts Women Kids",
         "4.5",
         "2408",
         "29.99",
         "False",
         "0",
         "Hi-Fi Speakers"
        ],
        [
         "48",
         "49",
         "B0CD1H4NYH",
         "ULTIMEA Dolby Atmos Sound Bar for TV, Soundbar for 3D Surround Sound System, Bluetooth Soundbar for TV with Subwoofer, Deep Bass Adjustable, Slim TV Sound Bar, Home Theater Soundbar Speaker, Nova S50",
         "4.5",
         "239",
         "129.99",
         "False",
         "0",
         "Hi-Fi Speakers"
        ],
        [
         "49",
         "50",
         "B0BXPZ792G",
         "Samsung Q930C Soundbar Speaker (2023) - 17 Speaker Home Sound System With Adaptive Sound, Wireless Dolby Atmos And Wireless Subwoofer, Alexa Built In, Smart Surround Sound, Bluetooth, WiFi & Airplay",
         "4.1",
         "7",
         "628.5",
         "False",
         "0",
         "Hi-Fi Speakers"
        ]
       ],
       "shape": {
        "columns": 9,
        "rows": 2443651
       }
      },
      "text/html": [
       "<div>\n",
       "<style scoped>\n",
       "    .dataframe tbody tr th:only-of-type {\n",
       "        vertical-align: middle;\n",
       "    }\n",
       "\n",
       "    .dataframe tbody tr th {\n",
       "        vertical-align: top;\n",
       "    }\n",
       "\n",
       "    .dataframe thead th {\n",
       "        text-align: right;\n",
       "    }\n",
       "</style>\n",
       "<table border=\"1\" class=\"dataframe\">\n",
       "  <thead>\n",
       "    <tr style=\"text-align: right;\">\n",
       "      <th></th>\n",
       "      <th>uid</th>\n",
       "      <th>asin</th>\n",
       "      <th>title</th>\n",
       "      <th>stars</th>\n",
       "      <th>reviews</th>\n",
       "      <th>price</th>\n",
       "      <th>isBestSeller</th>\n",
       "      <th>boughtInLastMonth</th>\n",
       "      <th>category</th>\n",
       "    </tr>\n",
       "  </thead>\n",
       "  <tbody>\n",
       "    <tr>\n",
       "      <th>0</th>\n",
       "      <td>1</td>\n",
       "      <td>B09B96TG33</td>\n",
       "      <td>Echo Dot (5th generation, 2022 release) | Big ...</td>\n",
       "      <td>4.7</td>\n",
       "      <td>15308</td>\n",
       "      <td>21.99</td>\n",
       "      <td>False</td>\n",
       "      <td>0</td>\n",
       "      <td>Hi-Fi Speakers</td>\n",
       "    </tr>\n",
       "    <tr>\n",
       "      <th>1</th>\n",
       "      <td>2</td>\n",
       "      <td>B01HTH3C8S</td>\n",
       "      <td>Anker Soundcore mini, Super-Portable Bluetooth...</td>\n",
       "      <td>4.7</td>\n",
       "      <td>98099</td>\n",
       "      <td>23.99</td>\n",
       "      <td>True</td>\n",
       "      <td>0</td>\n",
       "      <td>Hi-Fi Speakers</td>\n",
       "    </tr>\n",
       "    <tr>\n",
       "      <th>2</th>\n",
       "      <td>3</td>\n",
       "      <td>B09B8YWXDF</td>\n",
       "      <td>Echo Dot (5th generation, 2022 release) | Big ...</td>\n",
       "      <td>4.7</td>\n",
       "      <td>15308</td>\n",
       "      <td>21.99</td>\n",
       "      <td>False</td>\n",
       "      <td>0</td>\n",
       "      <td>Hi-Fi Speakers</td>\n",
       "    </tr>\n",
       "    <tr>\n",
       "      <th>3</th>\n",
       "      <td>4</td>\n",
       "      <td>B09B8T5VGV</td>\n",
       "      <td>Echo Dot with clock (5th generation, 2022 rele...</td>\n",
       "      <td>4.7</td>\n",
       "      <td>7205</td>\n",
       "      <td>31.99</td>\n",
       "      <td>False</td>\n",
       "      <td>0</td>\n",
       "      <td>Hi-Fi Speakers</td>\n",
       "    </tr>\n",
       "    <tr>\n",
       "      <th>4</th>\n",
       "      <td>5</td>\n",
       "      <td>B09WX6QD65</td>\n",
       "      <td>Introducing Echo Pop | Full sound compact Wi-F...</td>\n",
       "      <td>4.6</td>\n",
       "      <td>1881</td>\n",
       "      <td>17.99</td>\n",
       "      <td>False</td>\n",
       "      <td>0</td>\n",
       "      <td>Hi-Fi Speakers</td>\n",
       "    </tr>\n",
       "    <tr>\n",
       "      <th>...</th>\n",
       "      <td>...</td>\n",
       "      <td>...</td>\n",
       "      <td>...</td>\n",
       "      <td>...</td>\n",
       "      <td>...</td>\n",
       "      <td>...</td>\n",
       "      <td>...</td>\n",
       "      <td>...</td>\n",
       "      <td>...</td>\n",
       "    </tr>\n",
       "    <tr>\n",
       "      <th>2443646</th>\n",
       "      <td>2828589</td>\n",
       "      <td>B0CHSD7P2Q</td>\n",
       "      <td>Motorbike Armour, Motorbike Clothing, Cycling ...</td>\n",
       "      <td>0.0</td>\n",
       "      <td>0</td>\n",
       "      <td>22.34</td>\n",
       "      <td>False</td>\n",
       "      <td>0</td>\n",
       "      <td>Motorbike Clothing</td>\n",
       "    </tr>\n",
       "    <tr>\n",
       "      <th>2443647</th>\n",
       "      <td>2828590</td>\n",
       "      <td>B0B7B8FNBQ</td>\n",
       "      <td>PROFIRST Waterproof Motorcycle 2 Piece Ladies ...</td>\n",
       "      <td>0.0</td>\n",
       "      <td>0</td>\n",
       "      <td>97.99</td>\n",
       "      <td>False</td>\n",
       "      <td>0</td>\n",
       "      <td>Motorbike Clothing</td>\n",
       "    </tr>\n",
       "    <tr>\n",
       "      <th>2443648</th>\n",
       "      <td>2828591</td>\n",
       "      <td>B0BD5FL5FB</td>\n",
       "      <td>Men’s Motorcycle Motorbike Biker Trousers Kevl...</td>\n",
       "      <td>0.0</td>\n",
       "      <td>0</td>\n",
       "      <td>52.99</td>\n",
       "      <td>False</td>\n",
       "      <td>0</td>\n",
       "      <td>Motorbike Clothing</td>\n",
       "    </tr>\n",
       "    <tr>\n",
       "      <th>2443649</th>\n",
       "      <td>2828592</td>\n",
       "      <td>B008OYLL4I</td>\n",
       "      <td>Texpeed Mens Motorcycle Motorbike Biker Trouse...</td>\n",
       "      <td>4.3</td>\n",
       "      <td>404</td>\n",
       "      <td>79.99</td>\n",
       "      <td>False</td>\n",
       "      <td>0</td>\n",
       "      <td>Motorbike Clothing</td>\n",
       "    </tr>\n",
       "    <tr>\n",
       "      <th>2443650</th>\n",
       "      <td>2828593</td>\n",
       "      <td>B08P3W9B3T</td>\n",
       "      <td>RIDEX CJ223 Motorcycle Motorbike Jacket Armour...</td>\n",
       "      <td>4.5</td>\n",
       "      <td>34</td>\n",
       "      <td>53.99</td>\n",
       "      <td>False</td>\n",
       "      <td>0</td>\n",
       "      <td>Motorbike Clothing</td>\n",
       "    </tr>\n",
       "  </tbody>\n",
       "</table>\n",
       "<p>2443651 rows × 9 columns</p>\n",
       "</div>"
      ],
      "text/plain": [
       "             uid        asin  \\\n",
       "0              1  B09B96TG33   \n",
       "1              2  B01HTH3C8S   \n",
       "2              3  B09B8YWXDF   \n",
       "3              4  B09B8T5VGV   \n",
       "4              5  B09WX6QD65   \n",
       "...          ...         ...   \n",
       "2443646  2828589  B0CHSD7P2Q   \n",
       "2443647  2828590  B0B7B8FNBQ   \n",
       "2443648  2828591  B0BD5FL5FB   \n",
       "2443649  2828592  B008OYLL4I   \n",
       "2443650  2828593  B08P3W9B3T   \n",
       "\n",
       "                                                     title  stars  reviews  \\\n",
       "0        Echo Dot (5th generation, 2022 release) | Big ...    4.7    15308   \n",
       "1        Anker Soundcore mini, Super-Portable Bluetooth...    4.7    98099   \n",
       "2        Echo Dot (5th generation, 2022 release) | Big ...    4.7    15308   \n",
       "3        Echo Dot with clock (5th generation, 2022 rele...    4.7     7205   \n",
       "4        Introducing Echo Pop | Full sound compact Wi-F...    4.6     1881   \n",
       "...                                                    ...    ...      ...   \n",
       "2443646  Motorbike Armour, Motorbike Clothing, Cycling ...    0.0        0   \n",
       "2443647  PROFIRST Waterproof Motorcycle 2 Piece Ladies ...    0.0        0   \n",
       "2443648  Men’s Motorcycle Motorbike Biker Trousers Kevl...    0.0        0   \n",
       "2443649  Texpeed Mens Motorcycle Motorbike Biker Trouse...    4.3      404   \n",
       "2443650  RIDEX CJ223 Motorcycle Motorbike Jacket Armour...    4.5       34   \n",
       "\n",
       "         price  isBestSeller  boughtInLastMonth            category  \n",
       "0        21.99         False                  0      Hi-Fi Speakers  \n",
       "1        23.99          True                  0      Hi-Fi Speakers  \n",
       "2        21.99         False                  0      Hi-Fi Speakers  \n",
       "3        31.99         False                  0      Hi-Fi Speakers  \n",
       "4        17.99         False                  0      Hi-Fi Speakers  \n",
       "...        ...           ...                ...                 ...  \n",
       "2443646  22.34         False                  0  Motorbike Clothing  \n",
       "2443647  97.99         False                  0  Motorbike Clothing  \n",
       "2443648  52.99         False                  0  Motorbike Clothing  \n",
       "2443649  79.99         False                  0  Motorbike Clothing  \n",
       "2443650  53.99         False                  0  Motorbike Clothing  \n",
       "\n",
       "[2443651 rows x 9 columns]"
      ]
     },
     "execution_count": 2,
     "metadata": {},
     "output_type": "execute_result"
    }
   ],
   "source": [
    "df = pd.read_csv(\"amz_uk_price_prediction_dataset.csv\")\n",
    "df\n"
   ]
  },
  {
   "cell_type": "markdown",
   "id": "a53ade0b",
   "metadata": {},
   "source": [
    "Part 1: Understanding Product Categories\n",
    "\n",
    "Business Question: What are the most popular product categories on Amazon UK, and how do they compare in terms of listing frequency?\n",
    "\n",
    "    1.Frequency Tables:\n",
    "\n",
    "        1.1.Generate a frequency table for the product category.\n",
    "        1.2.Which are the top 5 most listed product categories?\n",
    "\n",
    "    2.Visualizations:\n",
    "\n",
    "        2.1.Display the distribution of products across different categories using a bar chart. If you face problems understanding the chart, do it for a subset of top categories.\n",
    "        2.2.For a subset of top categories, visualize their proportions using a pie chart. Does any category dominate the listings?"
   ]
  },
  {
   "cell_type": "code",
   "execution_count": 3,
   "id": "8d809075",
   "metadata": {},
   "outputs": [
    {
     "data": {
      "application/vnd.microsoft.datawrangler.viewer.v0+json": {
       "columns": [
        {
         "name": "category",
         "rawType": "object",
         "type": "string"
        },
        {
         "name": "count",
         "rawType": "int64",
         "type": "integer"
        }
       ],
       "ref": "83c917e4-869a-47cc-93ab-48856effc756",
       "rows": [
        [
         "Sports & Outdoors",
         "836265"
        ],
        [
         "Beauty",
         "19312"
        ],
        [
         "Handmade Clothing, Shoes & Accessories",
         "19229"
        ],
        [
         "Bath & Body",
         "19092"
        ],
        [
         "Birthday Gifts",
         "18978"
        ],
        [
         "Manicure & Pedicure Products",
         "18940"
        ],
        [
         "Skin Care",
         "18769"
        ],
        [
         "Make-up",
         "18756"
        ],
        [
         "Hair Care",
         "18735"
        ],
        [
         "Fragrances",
         "18564"
        ],
        [
         "Handmade Gifts",
         "18295"
        ],
        [
         "Handmade Home Décor",
         "18146"
        ],
        [
         "Luggage and travel gear",
         "18142"
        ],
        [
         "Handmade Jewellery",
         "18044"
        ],
        [
         "Handmade Artwork",
         "17878"
        ],
        [
         "Women",
         "17772"
        ],
        [
         "Handmade Home & Kitchen Products",
         "17435"
        ],
        [
         "Handmade Kitchen & Dining",
         "17432"
        ],
        [
         "Men",
         "17417"
        ],
        [
         "Baby",
         "15050"
        ],
        [
         "Handmade",
         "14532"
        ],
        [
         "Boys",
         "11789"
        ],
        [
         "Girls",
         "10310"
        ],
        [
         "Garden Furniture & Accessories",
         "9626"
        ],
        [
         "Keyboards, Mice & Input Devices",
         "9597"
        ],
        [
         "Health & Personal Care",
         "9569"
        ],
        [
         "Storage & Organisation",
         "9569"
        ],
        [
         "Grocery",
         "9564"
        ],
        [
         "Beer, Wine & Spirits",
         "9553"
        ],
        [
         "Arts & Crafts",
         "9549"
        ],
        [
         "Scanners & Accessories",
         "9532"
        ],
        [
         "Outdoor Cooking",
         "9532"
        ],
        [
         "Dolls & Accessories",
         "9511"
        ],
        [
         "Binoculars, Telescopes & Optics",
         "9497"
        ],
        [
         "Garden Décor",
         "9492"
        ],
        [
         "Building & Construction Toys",
         "9490"
        ],
        [
         "Learning & Education Toys",
         "9487"
        ],
        [
         "Plants, Seeds & Bulbs",
         "9482"
        ],
        [
         "Kids' Art & Craft Supplies",
         "9482"
        ],
        [
         "Barebone PCs",
         "9478"
        ],
        [
         "Printers & Accessories",
         "9471"
        ],
        [
         "Kids' Play Figures",
         "9471"
        ],
        [
         "Jigsaws & Puzzles",
         "9470"
        ],
        [
         "Hi-Fi & Home Audio Accessories",
         "9468"
        ],
        [
         "Headphones, Earphones & Accessories",
         "9464"
        ],
        [
         "Computer Audio & Video Accessories",
         "9449"
        ],
        [
         "Sports Supplements",
         "9443"
        ],
        [
         "Pet Supplies",
         "9437"
        ],
        [
         "Garden Storage & Housing",
         "9427"
        ],
        [
         "Piano & Keyboard",
         "9425"
        ]
       ],
       "shape": {
        "columns": 1,
        "rows": 296
       }
      },
      "text/plain": [
       "category\n",
       "Sports & Outdoors                         836265\n",
       "Beauty                                     19312\n",
       "Handmade Clothing, Shoes & Accessories     19229\n",
       "Bath & Body                                19092\n",
       "Birthday Gifts                             18978\n",
       "                                           ...  \n",
       "Motorbike Chassis                            107\n",
       "Alexa Built-In Devices                       107\n",
       "Plugs                                        107\n",
       "Smart Home Security & Lighting               104\n",
       "Smart Speakers                                54\n",
       "Name: count, Length: 296, dtype: int64"
      ]
     },
     "execution_count": 3,
     "metadata": {},
     "output_type": "execute_result"
    }
   ],
   "source": [
    "# 1.1.\n",
    "\n",
    "df['category'].value_counts()"
   ]
  },
  {
   "cell_type": "code",
   "execution_count": 4,
   "id": "66c344ce",
   "metadata": {},
   "outputs": [
    {
     "data": {
      "application/vnd.microsoft.datawrangler.viewer.v0+json": {
       "columns": [
        {
         "name": "category",
         "rawType": "object",
         "type": "string"
        },
        {
         "name": "count",
         "rawType": "int64",
         "type": "integer"
        }
       ],
       "ref": "53a38180-de82-4cdb-b1b3-f14cc5276e63",
       "rows": [
        [
         "Sports & Outdoors",
         "836265"
        ],
        [
         "Beauty",
         "19312"
        ],
        [
         "Handmade Clothing, Shoes & Accessories",
         "19229"
        ],
        [
         "Bath & Body",
         "19092"
        ],
        [
         "Birthday Gifts",
         "18978"
        ]
       ],
       "shape": {
        "columns": 1,
        "rows": 5
       }
      },
      "text/plain": [
       "category\n",
       "Sports & Outdoors                         836265\n",
       "Beauty                                     19312\n",
       "Handmade Clothing, Shoes & Accessories     19229\n",
       "Bath & Body                                19092\n",
       "Birthday Gifts                             18978\n",
       "Name: count, dtype: int64"
      ]
     },
     "execution_count": 4,
     "metadata": {},
     "output_type": "execute_result"
    }
   ],
   "source": [
    "# 1.2.\n",
    "\n",
    "freq_table = df['category'].value_counts().head(5)\n",
    "freq_table"
   ]
  },
  {
   "cell_type": "code",
   "execution_count": 5,
   "id": "43dac188",
   "metadata": {},
   "outputs": [
    {
     "name": "stderr",
     "output_type": "stream",
     "text": [
      "C:\\Users\\Pedro\\AppData\\Local\\Temp\\ipykernel_69344\\2713933448.py:4: FutureWarning: \n",
      "\n",
      "Passing `palette` without assigning `hue` is deprecated and will be removed in v0.14.0. Assign the `x` variable to `hue` and set `legend=False` for the same effect.\n",
      "\n",
      "  sns.barplot(x = freq_table[0:3].index, y = freq_table[0:3].values, palette=\"Set3\")\n"
     ]
    },
    {
     "data": {
      "image/png": "[encoded data removed]",
      "text/plain": [
       "<Figure size 640x480 with 1 Axes>"
      ]
     },
     "metadata": {},
     "output_type": "display_data"
    }
   ],
   "source": [
    "# 2.1.\n",
    "# Using a subset due to the fact that x axis name overlap eachother due to number of words\n",
    "\n",
    "sns.barplot(x = freq_table[0:3].index, y = freq_table[0:3].values, palette=\"Set3\")\n",
    "plt.show()"
   ]
  },
  {
   "cell_type": "code",
   "execution_count": 6,
   "id": "4619b181",
   "metadata": {},
   "outputs": [
    {
     "data": {
      "text/plain": [
       "<Axes: ylabel='count'>"
      ]
     },
     "execution_count": 6,
     "metadata": {},
     "output_type": "execute_result"
    },
    {
     "data": {
      "image/png": "[encoded data removed]",
      "text/plain": [
       "<Figure size 640x480 with 1 Axes>"
      ]
     },
     "metadata": {},
     "output_type": "display_data"
    }
   ],
   "source": [
    "# 2.2.\n",
    "\n",
    "freq_table.plot.pie(autopct='%1.1f%%', startangle=90, colors=sns.color_palette(\"Set3\"))\n",
    "\n",
    "# Clear dominance of the 'Sports & Outdoors' category, assuming more than 90% of the listings \n",
    "\n"
   ]
  },
  {
   "cell_type": "markdown",
   "id": "75d8b9ec",
   "metadata": {},
   "source": [
    "Part 2: Delving into Product Pricing\n",
    "\n",
    "Business Question: How are products priced on Amazon UK, and are there specific price points or ranges that are more common?\n",
    "\n",
    "    1.Measures of Centrality:\n",
    "\n",
    "        1.1.Calculate the mean, median, and mode for the price of products.\n",
    "        1.2.What's the average price point of products listed? How does this compare with the most common price point (mode)?\n",
    "\n",
    "    2.Measures of Dispersion:\n",
    "\n",
    "        2.1.Determine the variance, standard deviation, range, and interquartile range for product price.\n",
    "        2.2.How varied are the product prices? Are there any indicators of a significant spread in prices?\n",
    "\n",
    "    3.Visualizations:\n",
    "\n",
    "        3.1Is there a specific price range where most products fall? Plot a histogram to visualize the distribution of product prices. If its hard to read these diagrams, think why this is, and explain how it could be solved..\n",
    "        3.2Are there products that are priced significantly higher than the rest? Use a box plot to showcase the spread and potential outliers in product pricing.\n"
   ]
  },
  {
   "cell_type": "code",
   "execution_count": 7,
   "id": "c36fbeff",
   "metadata": {},
   "outputs": [
    {
     "data": {
      "application/vnd.microsoft.datawrangler.viewer.v0+json": {
       "columns": [
        {
         "name": "index",
         "rawType": "object",
         "type": "string"
        },
        {
         "name": "uid",
         "rawType": "float64",
         "type": "float"
        },
        {
         "name": "stars",
         "rawType": "float64",
         "type": "float"
        },
        {
         "name": "reviews",
         "rawType": "float64",
         "type": "float"
        },
        {
         "name": "price",
         "rawType": "float64",
         "type": "float"
        },
        {
         "name": "boughtInLastMonth",
         "rawType": "float64",
         "type": "float"
        }
       ],
       "ref": "6bbb5a9a-25c4-4d06-88f7-af5f2cdf3277",
       "rows": [
        [
         "count",
         "2443651.0",
         "2443651.0",
         "2443651.0",
         "2443651.0",
         "2443651.0"
        ],
        [
         "mean",
         "1370545.345230968",
         "2.152836472966066",
         "480.6277569914853",
         "89.24380943923661",
         "25.896987744976677"
        ],
        [
         "std",
         "816056.1698522562",
         "2.194865378513421",
         "5944.124150913362",
         "345.60886175349873",
         "240.4837273394366"
        ],
        [
         "min",
         "1.0",
         "0.0",
         "0.0",
         "0.0",
         "0.0"
        ],
        [
         "25%",
         "658921.5",
         "0.0",
         "0.0",
         "9.99",
         "0.0"
        ],
        [
         "50%",
         "1349029.0",
         "0.0",
         "0.0",
         "19.09",
         "0.0"
        ],
        [
         "75%",
         "2060685.5",
         "4.4",
         "59.0",
         "45.99",
         "0.0"
        ],
        [
         "max",
         "2828593.0",
         "5.0",
         "1356658.0",
         "100000.0",
         "50000.0"
        ]
       ],
       "shape": {
        "columns": 5,
        "rows": 8
       }
      },
      "text/html": [
       "<div>\n",
       "<style scoped>\n",
       "    .dataframe tbody tr th:only-of-type {\n",
       "        vertical-align: middle;\n",
       "    }\n",
       "\n",
       "    .dataframe tbody tr th {\n",
       "        vertical-align: top;\n",
       "    }\n",
       "\n",
       "    .dataframe thead th {\n",
       "        text-align: right;\n",
       "    }\n",
       "</style>\n",
       "<table border=\"1\" class=\"dataframe\">\n",
       "  <thead>\n",
       "    <tr style=\"text-align: right;\">\n",
       "      <th></th>\n",
       "      <th>uid</th>\n",
       "      <th>stars</th>\n",
       "      <th>reviews</th>\n",
       "      <th>price</th>\n",
       "      <th>boughtInLastMonth</th>\n",
       "    </tr>\n",
       "  </thead>\n",
       "  <tbody>\n",
       "    <tr>\n",
       "      <th>count</th>\n",
       "      <td>2.443651e+06</td>\n",
       "      <td>2.443651e+06</td>\n",
       "      <td>2.443651e+06</td>\n",
       "      <td>2.443651e+06</td>\n",
       "      <td>2.443651e+06</td>\n",
       "    </tr>\n",
       "    <tr>\n",
       "      <th>mean</th>\n",
       "      <td>1.370545e+06</td>\n",
       "      <td>2.152836e+00</td>\n",
       "      <td>4.806278e+02</td>\n",
       "      <td>8.924381e+01</td>\n",
       "      <td>2.589699e+01</td>\n",
       "    </tr>\n",
       "    <tr>\n",
       "      <th>std</th>\n",
       "      <td>8.160562e+05</td>\n",
       "      <td>2.194865e+00</td>\n",
       "      <td>5.944124e+03</td>\n",
       "      <td>3.456089e+02</td>\n",
       "      <td>2.404837e+02</td>\n",
       "    </tr>\n",
       "    <tr>\n",
       "      <th>min</th>\n",
       "      <td>1.000000e+00</td>\n",
       "      <td>0.000000e+00</td>\n",
       "      <td>0.000000e+00</td>\n",
       "      <td>0.000000e+00</td>\n",
       "      <td>0.000000e+00</td>\n",
       "    </tr>\n",
       "    <tr>\n",
       "      <th>25%</th>\n",
       "      <td>6.589215e+05</td>\n",
       "      <td>0.000000e+00</td>\n",
       "      <td>0.000000e+00</td>\n",
       "      <td>9.990000e+00</td>\n",
       "      <td>0.000000e+00</td>\n",
       "    </tr>\n",
       "    <tr>\n",
       "      <th>50%</th>\n",
       "      <td>1.349029e+06</td>\n",
       "      <td>0.000000e+00</td>\n",
       "      <td>0.000000e+00</td>\n",
       "      <td>1.909000e+01</td>\n",
       "      <td>0.000000e+00</td>\n",
       "    </tr>\n",
       "    <tr>\n",
       "      <th>75%</th>\n",
       "      <td>2.060686e+06</td>\n",
       "      <td>4.400000e+00</td>\n",
       "      <td>5.900000e+01</td>\n",
       "      <td>4.599000e+01</td>\n",
       "      <td>0.000000e+00</td>\n",
       "    </tr>\n",
       "    <tr>\n",
       "      <th>max</th>\n",
       "      <td>2.828593e+06</td>\n",
       "      <td>5.000000e+00</td>\n",
       "      <td>1.356658e+06</td>\n",
       "      <td>1.000000e+05</td>\n",
       "      <td>5.000000e+04</td>\n",
       "    </tr>\n",
       "  </tbody>\n",
       "</table>\n",
       "</div>"
      ],
      "text/plain": [
       "                uid         stars       reviews         price  \\\n",
       "count  2.443651e+06  2.443651e+06  2.443651e+06  2.443651e+06   \n",
       "mean   1.370545e+06  2.152836e+00  4.806278e+02  8.924381e+01   \n",
       "std    8.160562e+05  2.194865e+00  5.944124e+03  3.456089e+02   \n",
       "min    1.000000e+00  0.000000e+00  0.000000e+00  0.000000e+00   \n",
       "25%    6.589215e+05  0.000000e+00  0.000000e+00  9.990000e+00   \n",
       "50%    1.349029e+06  0.000000e+00  0.000000e+00  1.909000e+01   \n",
       "75%    2.060686e+06  4.400000e+00  5.900000e+01  4.599000e+01   \n",
       "max    2.828593e+06  5.000000e+00  1.356658e+06  1.000000e+05   \n",
       "\n",
       "       boughtInLastMonth  \n",
       "count       2.443651e+06  \n",
       "mean        2.589699e+01  \n",
       "std         2.404837e+02  \n",
       "min         0.000000e+00  \n",
       "25%         0.000000e+00  \n",
       "50%         0.000000e+00  \n",
       "75%         0.000000e+00  \n",
       "max         5.000000e+04  "
      ]
     },
     "execution_count": 7,
     "metadata": {},
     "output_type": "execute_result"
    }
   ],
   "source": [
    "df.describe()"
   ]
  },
  {
   "cell_type": "code",
   "execution_count": 8,
   "id": "eb211b51",
   "metadata": {},
   "outputs": [
    {
     "data": {
      "text/plain": [
       "(np.float64(89.24380943923661), np.float64(19.09), np.float64(9.99))"
      ]
     },
     "execution_count": 8,
     "metadata": {},
     "output_type": "execute_result"
    }
   ],
   "source": [
    "# 1.1.\n",
    "\n",
    "price_mean = df['price'].mean()\n",
    "price_median = df['price'].median()\n",
    "price_mode = df['price'].mode()[0]\n",
    "\n",
    "price_mean, price_median, price_mode"
   ]
  },
  {
   "cell_type": "code",
   "execution_count": 9,
   "id": "86186f2a",
   "metadata": {},
   "outputs": [
    {
     "data": {
      "text/plain": [
       "(np.float64(89.24380943923661), np.float64(9.99))"
      ]
     },
     "execution_count": 9,
     "metadata": {},
     "output_type": "execute_result"
    }
   ],
   "source": [
    "# 1.2.\n",
    "\n",
    "df['price'].min()\n",
    "df['price'].max()\n",
    "\n",
    "price_mean, price_mode\n",
    "\n",
    "# The avg price of the listed products show a big deviation from the mode (most common price)\n",
    "#   due to the fact that some of the listed products have high prices when compared with the majority of listings and some have value 0 -> min_price = 0 and max_price = 100000;\n",
    "#   in this case one can say that, the mean price of listed products is highly influenced by very high prices in the listings, deviating a lot from the other measures (median and mode)."
   ]
  },
  {
   "cell_type": "code",
   "execution_count": null,
   "id": "6d1d243c",
   "metadata": {},
   "outputs": [
    {
     "name": "stdout",
     "output_type": "stream",
     "text": [
      "119445.43644262086\n",
      "345.60879103781616\n",
      "100000.0\n",
      "36.0\n"
     ]
    }
   ],
   "source": [
    "# 2.1.\n",
    "\n",
    "var_price = df[\"price\"].var(ddof=0)\n",
    "std_price = df[\"price\"].std(ddof=0)\n",
    "\n",
    "min_price = df[\"price\"].min()\n",
    "max_price = df[\"price\"].max()\n",
    "range_price = max_price - min_price\n",
    "\n",
    "q1, q2, q3 = df[\"price\"].quantile([0.25, 0.50, 0.75])\n",
    "iqr_price = q3 - q1\n",
    "\n",
    "\n",
    "print(var_price) \n",
    "print(std_price) \n",
    "print(range_price) \n",
    "print(iqr_price)"
   ]
  },
  {
   "cell_type": "code",
   "execution_count": 11,
   "id": "6886f4a1",
   "metadata": {},
   "outputs": [],
   "source": [
    "# 2.2.\n",
    "\n",
    "# When observing the variance value (var_price = 119445.436) one can infer that the difference between the lowest price\n",
    "# and the highest is a big one.\n",
    "# This is also supported by the value of the mean when comparing to the mode. The difference in the values is so big\n",
    "# due to the outliers of price values."
   ]
  },
  {
   "cell_type": "code",
   "execution_count": null,
   "id": "353ef585",
   "metadata": {},
   "outputs": [
    {
     "data": {
      "text/plain": [
       "<Axes: xlabel='price', ylabel='Count'>"
      ]
     },
     "execution_count": 22,
     "metadata": {},
     "output_type": "execute_result"
    },
    {
     "data": {
      "image/png": "[encoded data removed]",
      "text/plain": [
       "<Figure size 640x480 with 1 Axes>"
      ]
     },
     "metadata": {},
     "output_type": "display_data"
    }
   ],
   "source": [
    "# 2.3.\n",
    "\n",
    "sns.histplot(df['price'], kde=True, bins=10, color='blue')\n",
    "\n",
    "# The difficulty in reading this plot can be explain by the amount of data points as well as by the variance observed in the 'price' column\n",
    "# The use of clusters of prices, bins containing price ranges and how many products fall in a given range, could help plot a more readable histogram "
   ]
  },
  {
   "cell_type": "markdown",
   "id": "f0719942",
   "metadata": {},
   "source": [
    "Part 3: Unpacking Product Ratings\n",
    "\n",
    "Business Question: How do customers rate products on Amazon UK, and are there any patterns or tendencies in the ratings?\n",
    "\n",
    "3.1.Measures of Centrality:\n",
    "\n",
    "    3.1.1.Calculate the mean, median, and mode for the rating of products.\n",
    "\n",
    "    3.1.2.How do customers generally rate products? Is there a common trend?\n",
    "\n",
    "3.2.Measures of Dispersion:\n",
    "\n",
    "    3.2.1.Determine the variance, standard deviation, and interquartile range for product rating.\n",
    "\n",
    "    3.2.2.Are the ratings consistent, or is there a wide variation in customer feedback?\n",
    "\n",
    "3.3.Shape of the Distribution:\n",
    "\n",
    "    3.3.1.Calculate the skewness and kurtosis for the rating column.\n",
    "\n",
    "    3.3.2.Are the ratings normally distributed, or do they lean towards higher or lower values?\n",
    "\n",
    "3.4.Visualizations:\n",
    "\n",
    "    3.4.1.Plot a histogram to visualize the distribution of product ratings. Is there a specific rating that is more common?"
   ]
  },
  {
   "cell_type": "code",
   "execution_count": 23,
   "id": "f5e1e888",
   "metadata": {},
   "outputs": [
    {
     "data": {
      "application/vnd.microsoft.datawrangler.viewer.v0+json": {
       "columns": [
        {
         "name": "index",
         "rawType": "int64",
         "type": "integer"
        },
        {
         "name": "uid",
         "rawType": "int64",
         "type": "integer"
        },
        {
         "name": "asin",
         "rawType": "object",
         "type": "string"
        },
        {
         "name": "title",
         "rawType": "object",
         "type": "string"
        },
        {
         "name": "stars",
         "rawType": "float64",
         "type": "float"
        },
        {
         "name": "reviews",
         "rawType": "int64",
         "type": "integer"
        },
        {
         "name": "price",
         "rawType": "float64",
         "type": "float"
        },
        {
         "name": "isBestSeller",
         "rawType": "bool",
         "type": "boolean"
        },
        {
         "name": "boughtInLastMonth",
         "rawType": "int64",
         "type": "integer"
        },
        {
         "name": "category",
         "rawType": "object",
         "type": "string"
        }
       ],
       "ref": "43d65cfe-510e-4394-bb5c-f76d3e460894",
       "rows": [
        [
         "0",
         "1",
         "B09B96TG33",
         "Echo Dot (5th generation, 2022 release) | Big vibrant sound Wi-Fi and Bluetooth smart speaker with Alexa | Charcoal",
         "4.7",
         "15308",
         "21.99",
         "False",
         "0",
         "Hi-Fi Speakers"
        ],
        [
         "1",
         "2",
         "B01HTH3C8S",
         "Anker Soundcore mini, Super-Portable Bluetooth Speaker with 15-Hour Playtime, 66-Foot Bluetooth Range, Wireless Speaker with Enhanced Bass, Noise-Cancelling Microphone, for Outdoor, Travel, Home",
         "4.7",
         "98099",
         "23.99",
         "True",
         "0",
         "Hi-Fi Speakers"
        ],
        [
         "2",
         "3",
         "B09B8YWXDF",
         "Echo Dot (5th generation, 2022 release) | Big vibrant sound Wi-Fi and Bluetooth smart speaker with Alexa | Deep Sea Blue",
         "4.7",
         "15308",
         "21.99",
         "False",
         "0",
         "Hi-Fi Speakers"
        ],
        [
         "3",
         "4",
         "B09B8T5VGV",
         "Echo Dot with clock (5th generation, 2022 release) | Bigger vibrant sound Wi-Fi and Bluetooth smart speaker and Alexa | Cloud Blue",
         "4.7",
         "7205",
         "31.99",
         "False",
         "0",
         "Hi-Fi Speakers"
        ],
        [
         "4",
         "5",
         "B09WX6QD65",
         "Introducing Echo Pop | Full sound compact Wi-Fi and Bluetooth smart speaker with Alexa | Charcoal",
         "4.6",
         "1881",
         "17.99",
         "False",
         "0",
         "Hi-Fi Speakers"
        ],
        [
         "5",
         "6",
         "B09B97WSLF",
         "Echo Dot with clock (5th generation, 2022 release) | Bigger vibrant sound Wi-Fi and Bluetooth smart speaker and Alexa | Glacier White",
         "4.7",
         "7205",
         "31.99",
         "False",
         "0",
         "Hi-Fi Speakers"
        ],
        [
         "6",
         "7",
         "B09B9615X2",
         "Echo Dot (5th generation, 2022 release) | Big vibrant sound Wi-Fi and Bluetooth smart speaker with Alexa | Glacier White",
         "4.7",
         "15308",
         "21.99",
         "False",
         "0",
         "Hi-Fi Speakers"
        ],
        [
         "7",
         "8",
         "B01MTB55WH",
         "Anker Soundcore 2 Portable Bluetooth Speaker with 12W Stereo Sound, BassUp, IPX7 Waterproof, 24-Hour Playtime, Wireless Stereo Pairing, Speaker for Home, Outdoors, Travel",
         "4.7",
         "103673",
         "39.99",
         "False",
         "0",
         "Hi-Fi Speakers"
        ],
        [
         "8",
         "9",
         "B016MO90GW",
         "Bluetooth Speaker, Anker Soundcore Speaker Upgraded Version with 24H Playtime, IPX5 Waterproof, Stereo Sound, 66ft Bluetooth Range, Built-In Mic, Portable Wireless Speaker for iPhone Samsung",
         "4.7",
         "29909",
         "29.99",
         "False",
         "0",
         "Hi-Fi Speakers"
        ],
        [
         "9",
         "10",
         "B09ZQF5GZW",
         "RIENOK Bluetooth Speaker Portable Wireless Bluetooth Speaker with 30W Enhanced Bass IPX7 Waterproof Bluetooth 5.3 Outdoor Speaker for Travel Sport",
         "4.5",
         "16014",
         "29.99",
         "False",
         "0",
         "Hi-Fi Speakers"
        ],
        [
         "10",
         "11",
         "B08VDNCZT9",
         "JBL Charge 5 - Portable Bluetooth Speaker with deep bass, IP67 waterproof and dustproof, 20 hours of playtime, built-in powerbank, in black",
         "4.8",
         "11920",
         "139.0",
         "False",
         "0",
         "Hi-Fi Speakers"
        ],
        [
         "11",
         "12",
         "B09ZX9NP2W",
         "Introducing Echo Pop | Full sound compact Wi-Fi and Bluetooth smart speaker with Alexa | Lavender Bloom",
         "4.6",
         "1881",
         "17.99",
         "False",
         "0",
         "Hi-Fi Speakers"
        ],
        [
         "12",
         "13",
         "B09ZXDMNCY",
         "Introducing Echo Pop | Full sound compact Wi-Fi and Bluetooth smart speaker with Alexa | Glacier White",
         "4.6",
         "1881",
         "17.99",
         "False",
         "0",
         "Hi-Fi Speakers"
        ],
        [
         "13",
         "14",
         "B09B2R18PG",
         "All-new Echo Show 5 (3rd Gen, 2023 release) | Smart display and alarm clock with clearer sound | Charcoal",
         "4.5",
         "726",
         "49.99",
         "False",
         "0",
         "Hi-Fi Speakers"
        ],
        [
         "14",
         "15",
         "B084TNK1NL",
         "Echo Show 8 | 2nd generation (2021 release), HD smart display with Alexa and 13 MP camera | Charcoal",
         "4.7",
         "18333",
         "64.99",
         "False",
         "0",
         "Hi-Fi Speakers"
        ],
        [
         "15",
         "16",
         "B09B97BPSW",
         "Echo Dot Kids (5th generation, 2022 release) | Wi-Fi and Bluetooth smart speaker with Alexa | Designed for kids, with parental controls | Owl",
         "4.6",
         "1017",
         "26.99",
         "True",
         "0",
         "Hi-Fi Speakers"
        ],
        [
         "16",
         "17",
         "B08YF1T4SW",
         "Sony SRS-XB13 - Compact and Portable Waterproof Wireless Bluetooth speaker with EXTRA BASS - Black",
         "4.6",
         "6367",
         "39.0",
         "False",
         "0",
         "Hi-Fi Speakers"
        ],
        [
         "17",
         "18",
         "B09B8XRZYB",
         "Echo Dot Kids (5th generation, 2022 release) | Wi-Fi and Bluetooth smart speaker with Alexa | Designed for kids, with parental controls | Dragon",
         "4.6",
         "1017",
         "26.99",
         "True",
         "0",
         "Hi-Fi Speakers"
        ],
        [
         "18",
         "19",
         "B09B2SS2G1",
         "All-new Echo Show 5 (3rd Gen, 2023 release) | Smart display and alarm clock with clearer sound | White",
         "4.5",
         "726",
         "49.99",
         "False",
         "0",
         "Hi-Fi Speakers"
        ],
        [
         "19",
         "20",
         "B07NQCKJSH",
         "Echo Studio | Our best-sounding Wi-Fi and Bluetooth smart speaker ever | Dolby Atmos, spatial audio, smart home hub and Alexa | Charcoal",
         "4.5",
         "14222",
         "164.99",
         "False",
         "0",
         "Hi-Fi Speakers"
        ],
        [
         "20",
         "21",
         "B08BCHKY52",
         "soundcore 3 Bluetooth Speaker by Anker with Stereo Sound, Pure Titanium Diaphragm Drivers, 24H Playtime, IPX7 Waterproof, Bluetooth 5.0, PartyCast Technology, BassUp, App, Custom EQ",
         "4.6",
         "9273",
         "55.99",
         "False",
         "0",
         "Hi-Fi Speakers"
        ],
        [
         "21",
         "22",
         "B08FB2H6Y4",
         "JBL GO 3 - Wireless Bluetooth portable speaker with integrated loop for travel with USB C charging cable, in black",
         "4.8",
         "59668",
         "34.8",
         "False",
         "0",
         "Hi-Fi Speakers"
        ],
        [
         "22",
         "23",
         "B084TNGZHJ",
         "Echo Show 8 | 2nd generation (2021 release), HD smart display with Alexa and 13 MP camera | Glacier White",
         "4.7",
         "18333",
         "64.99",
         "False",
         "0",
         "Hi-Fi Speakers"
        ],
        [
         "23",
         "24",
         "B09HGRXXTM",
         "JBL Flip 6 Portable Bluetooth Speaker with 2-way speaker system and powerful JBL Original Pro Sound, up to 12 hours of playtime, in black",
         "4.7",
         "8700",
         "98.95",
         "False",
         "0",
         "Hi-Fi Speakers"
        ],
        [
         "24",
         "25",
         "B09B2RV31Z",
         "All-new Echo Show 5 (3rd generation) I Compact smart touchscreen with Alexa for smart home control and more I Cloud blue",
         "4.5",
         "726",
         "49.99",
         "False",
         "0",
         "Hi-Fi Speakers"
        ],
        [
         "25",
         "26",
         "B0BLS36M5R",
         "All-new Echo Show 8 | 3rd generation (2023 release), HD smart touchscreen with spatial audio, smart home hub and Alexa, Charcoal",
         "0.0",
         "0",
         "149.99",
         "False",
         "0",
         "Hi-Fi Speakers"
        ],
        [
         "26",
         "27",
         "B07PDJ9JFF",
         "Echo Flex – Voice control smart home devices with Alexa",
         "4.5",
         "21614",
         "9.99",
         "False",
         "0",
         "Hi-Fi Speakers"
        ],
        [
         "27",
         "28",
         "B07QK18BNY",
         "JBL FLIP 5 Portable Waterproof Bluetooth Speaker blue",
         "4.7",
         "6387",
         "79.99",
         "False",
         "0",
         "Hi-Fi Speakers"
        ],
        [
         "28",
         "29",
         "B096G3R7C3",
         "JBL PartyBox110 Portable Indoor and Outdoor Party Speaker with Built-In Lights, IPX4 Splashproof Design, Deep Bass and 12 Hours of Playtime, in Black",
         "4.8",
         "153",
         "289.0",
         "False",
         "0",
         "Hi-Fi Speakers"
        ],
        [
         "29",
         "30",
         "B01N4V4X5M",
         "Upgraded, Anker Soundcore Boost Bluetooth Speaker with Well-Balanced Sound, BassUp, 12H Playtime, USB-C, IPX7 Waterproof, with Customizable EQ via App, Wireless Stereo Pairing",
         "4.7",
         "29387",
         "39.98",
         "False",
         "600",
         "Hi-Fi Speakers"
        ],
        [
         "30",
         "31",
         "B08QF9F8BC",
         "Ortizan Bluetooth Speaker, Portable Wireless Bluetooth Speakers With Led Light, Louder Volume & Enhanced Bass, IPX7 Waterproof, 30H Playtime, Durable Loud Outdoor Speaker for Travel, Sport",
         "4.4",
         "17612",
         "35.99",
         "False",
         "0",
         "Hi-Fi Speakers"
        ],
        [
         "31",
         "32",
         "B08MQRDDYB",
         "Echo Show 15 | Full HD 15.6\" smart display with Alexa and Fire TV built in, remote not included",
         "4.4",
         "2616",
         "199.99",
         "False",
         "0",
         "Hi-Fi Speakers"
        ],
        [
         "32",
         "33",
         "B07WVP26FR",
         "Kolaura Portable Wireless Speaker, Bluetooth 5.0 Speaker with 3D Stereo HiFi Bass, 1500mAh Battery, 12 Hour Playtime (Blue)",
         "4.4",
         "2493",
         "15.99",
         "False",
         "1000",
         "Hi-Fi Speakers"
        ],
        [
         "33",
         "34",
         "B079DD19ZT",
         "Sony HT-SF150 2ch Single Soundbar with Bluetooth and S-Force Front Surround - Black",
         "4.3",
         "2391",
         "128.0",
         "False",
         "0",
         "Hi-Fi Speakers"
        ],
        [
         "34",
         "35",
         "B0BXQ1Q6NK",
         "Samsung Q990C Soundbar Speaker (2023) - 22 Speaker Home Sound System With Wireless Dolby Atmos Rear Speakers And Wireless Subwoofer, Alexa Built In, Smart Surround Sound, Bluetooth, WiFi & Airplay",
         "4.8",
         "13",
         "959.99",
         "False",
         "0",
         "Hi-Fi Speakers"
        ],
        [
         "35",
         "36",
         "B099TJGJ91",
         "Bose SoundLink Flex Bluetooth Portable Speaker, Wireless Waterproof Speaker for Outdoor Travel—Black",
         "4.8",
         "11692",
         "149.0",
         "False",
         "0",
         "Hi-Fi Speakers"
        ],
        [
         "36",
         "37",
         "B08L84ST93",
         "Bose Solo Soundbar Series II - TV Speaker with Bluetooth connectivity",
         "4.6",
         "2799",
         "169.0",
         "True",
         "0",
         "Hi-Fi Speakers"
        ],
        [
         "37",
         "38",
         "B0BXQ3DQW5",
         "Samsung Q700C Soundbar Speaker (2023) - 9 Speaker Home Sound System With Adaptive Sound, Dolby Atmos & Wireless Subwoofer, Night & Voice Enhancement, Smart Surround Sound, Bluetooth, WiFi & Airplay",
         "4.7",
         "15",
         "368.99",
         "False",
         "0",
         "Hi-Fi Speakers"
        ],
        [
         "38",
         "39",
         "B0B3XX8P9C",
         "JBL Flip Essential 2 Portable Bluetooth Speaker with Rechargeable Battery, IPX7 Waterproof, 10h Battery Life, Black",
         "4.7",
         "2452",
         "74.99",
         "False",
         "0",
         "Hi-Fi Speakers"
        ],
        [
         "39",
         "40",
         "B08HRWSYH6",
         "JBL Clip 4 - Bluetooth portable speaker with integrated carabiner, waterproof and dustproof, in black",
         "4.8",
         "8625",
         "39.95",
         "False",
         "0",
         "Hi-Fi Speakers"
        ],
        [
         "40",
         "41",
         "B084P3KP2R",
         "Echo Show 10 (3rd generation) | HD smart display with motion and Alexa, Charcoal Fabric",
         "4.5",
         "5053",
         "184.99",
         "False",
         "0",
         "Hi-Fi Speakers"
        ],
        [
         "41",
         "42",
         "B00ANI7HI2",
         "Jabra Speak 510 Speaker — Portable Bluetooth Speaker, Conference Speaker — Connects to Laptops, Smartphones and Tablets — USB Plug",
         "4.7",
         "5422",
         "95.0",
         "False",
         "0",
         "Hi-Fi Speakers"
        ],
        [
         "42",
         "43",
         "B08YDZRXGN",
         "Sony SRS-XB13 - Compact & Portable Waterproof Wireless Bluetooth® speaker with EXTRA BASS™ - Blue",
         "4.7",
         "2776",
         "39.99",
         "False",
         "0",
         "Hi-Fi Speakers"
        ],
        [
         "43",
         "44",
         "B081RQP7B9",
         "W-KING Bluetooth Speaker, 30W Portable Wireless Loud Speakers, IPX6 Waterproof Outdoor Speaker with Punchy Bass, 24H Playtime, EQ, AUX, TF Card, USB Playback -Powerful Speaker for Home, Party, Outdoor",
         "4.6",
         "5622",
         "38.39",
         "False",
         "0",
         "Hi-Fi Speakers"
        ],
        [
         "44",
         "45",
         "B085G58KWT",
         "Echo (4th generation) | Premium sound Wi-Fi and Bluetooth smart speaker with Dolby, smart home hub and Alexa | Charcoal",
         "4.7",
         "38692",
         "49.99",
         "False",
         "0",
         "Hi-Fi Speakers"
        ],
        [
         "45",
         "46",
         "B07F9NGRKF",
         "EWA Travel Case Packed, A106 Pro Wireless Mini Bluetooth Speaker with Custom Bass Radiator. IP67 Waterproof, Small But Loud, Portable Speakers for Car, Bike, Outdoors, Shower (Black)",
         "4.6",
         "40628",
         "17.99",
         "False",
         "0",
         "Hi-Fi Speakers"
        ],
        [
         "46",
         "47",
         "B08LQNL42Z",
         "soundcore Anker Motion Boom Portable Bluetooth Speaker with Titanium Drivers, BassUp Technology, IPX7 Waterproof, 24H Playtime, App, Bluetooth 5.0, for Home, Party, Outdoors",
         "4.7",
         "18958",
         "89.99",
         "False",
         "0",
         "Hi-Fi Speakers"
        ],
        [
         "47",
         "48",
         "B07PCHL3ZZ",
         "Bedside Lamp with Alarm Clock Bluetooth Speaker, Night Light Bedroom Decor RGB Color Changing LED Mood Bedroom Table Lamp Birthday Gifts for her for Teenage Girls Boy, Mum Gifts Women Kids",
         "4.5",
         "2408",
         "29.99",
         "False",
         "0",
         "Hi-Fi Speakers"
        ],
        [
         "48",
         "49",
         "B0CD1H4NYH",
         "ULTIMEA Dolby Atmos Sound Bar for TV, Soundbar for 3D Surround Sound System, Bluetooth Soundbar for TV with Subwoofer, Deep Bass Adjustable, Slim TV Sound Bar, Home Theater Soundbar Speaker, Nova S50",
         "4.5",
         "239",
         "129.99",
         "False",
         "0",
         "Hi-Fi Speakers"
        ],
        [
         "49",
         "50",
         "B0BXPZ792G",
         "Samsung Q930C Soundbar Speaker (2023) - 17 Speaker Home Sound System With Adaptive Sound, Wireless Dolby Atmos And Wireless Subwoofer, Alexa Built In, Smart Surround Sound, Bluetooth, WiFi & Airplay",
         "4.1",
         "7",
         "628.5",
         "False",
         "0",
         "Hi-Fi Speakers"
        ]
       ],
       "shape": {
        "columns": 9,
        "rows": 2443651
       }
      },
      "text/html": [
       "<div>\n",
       "<style scoped>\n",
       "    .dataframe tbody tr th:only-of-type {\n",
       "        vertical-align: middle;\n",
       "    }\n",
       "\n",
       "    .dataframe tbody tr th {\n",
       "        vertical-align: top;\n",
       "    }\n",
       "\n",
       "    .dataframe thead th {\n",
       "        text-align: right;\n",
       "    }\n",
       "</style>\n",
       "<table border=\"1\" class=\"dataframe\">\n",
       "  <thead>\n",
       "    <tr style=\"text-align: right;\">\n",
       "      <th></th>\n",
       "      <th>uid</th>\n",
       "      <th>asin</th>\n",
       "      <th>title</th>\n",
       "      <th>stars</th>\n",
       "      <th>reviews</th>\n",
       "      <th>price</th>\n",
       "      <th>isBestSeller</th>\n",
       "      <th>boughtInLastMonth</th>\n",
       "      <th>category</th>\n",
       "    </tr>\n",
       "  </thead>\n",
       "  <tbody>\n",
       "    <tr>\n",
       "      <th>0</th>\n",
       "      <td>1</td>\n",
       "      <td>B09B96TG33</td>\n",
       "      <td>Echo Dot (5th generation, 2022 release) | Big ...</td>\n",
       "      <td>4.7</td>\n",
       "      <td>15308</td>\n",
       "      <td>21.99</td>\n",
       "      <td>False</td>\n",
       "      <td>0</td>\n",
       "      <td>Hi-Fi Speakers</td>\n",
       "    </tr>\n",
       "    <tr>\n",
       "      <th>1</th>\n",
       "      <td>2</td>\n",
       "      <td>B01HTH3C8S</td>\n",
       "      <td>Anker Soundcore mini, Super-Portable Bluetooth...</td>\n",
       "      <td>4.7</td>\n",
       "      <td>98099</td>\n",
       "      <td>23.99</td>\n",
       "      <td>True</td>\n",
       "      <td>0</td>\n",
       "      <td>Hi-Fi Speakers</td>\n",
       "    </tr>\n",
       "    <tr>\n",
       "      <th>2</th>\n",
       "      <td>3</td>\n",
       "      <td>B09B8YWXDF</td>\n",
       "      <td>Echo Dot (5th generation, 2022 release) | Big ...</td>\n",
       "      <td>4.7</td>\n",
       "      <td>15308</td>\n",
       "      <td>21.99</td>\n",
       "      <td>False</td>\n",
       "      <td>0</td>\n",
       "      <td>Hi-Fi Speakers</td>\n",
       "    </tr>\n",
       "    <tr>\n",
       "      <th>3</th>\n",
       "      <td>4</td>\n",
       "      <td>B09B8T5VGV</td>\n",
       "      <td>Echo Dot with clock (5th generation, 2022 rele...</td>\n",
       "      <td>4.7</td>\n",
       "      <td>7205</td>\n",
       "      <td>31.99</td>\n",
       "      <td>False</td>\n",
       "      <td>0</td>\n",
       "      <td>Hi-Fi Speakers</td>\n",
       "    </tr>\n",
       "    <tr>\n",
       "      <th>4</th>\n",
       "      <td>5</td>\n",
       "      <td>B09WX6QD65</td>\n",
       "      <td>Introducing Echo Pop | Full sound compact Wi-F...</td>\n",
       "      <td>4.6</td>\n",
       "      <td>1881</td>\n",
       "      <td>17.99</td>\n",
       "      <td>False</td>\n",
       "      <td>0</td>\n",
       "      <td>Hi-Fi Speakers</td>\n",
       "    </tr>\n",
       "    <tr>\n",
       "      <th>...</th>\n",
       "      <td>...</td>\n",
       "      <td>...</td>\n",
       "      <td>...</td>\n",
       "      <td>...</td>\n",
       "      <td>...</td>\n",
       "      <td>...</td>\n",
       "      <td>...</td>\n",
       "      <td>...</td>\n",
       "      <td>...</td>\n",
       "    </tr>\n",
       "    <tr>\n",
       "      <th>2443646</th>\n",
       "      <td>2828589</td>\n",
       "      <td>B0CHSD7P2Q</td>\n",
       "      <td>Motorbike Armour, Motorbike Clothing, Cycling ...</td>\n",
       "      <td>0.0</td>\n",
       "      <td>0</td>\n",
       "      <td>22.34</td>\n",
       "      <td>False</td>\n",
       "      <td>0</td>\n",
       "      <td>Motorbike Clothing</td>\n",
       "    </tr>\n",
       "    <tr>\n",
       "      <th>2443647</th>\n",
       "      <td>2828590</td>\n",
       "      <td>B0B7B8FNBQ</td>\n",
       "      <td>PROFIRST Waterproof Motorcycle 2 Piece Ladies ...</td>\n",
       "      <td>0.0</td>\n",
       "      <td>0</td>\n",
       "      <td>97.99</td>\n",
       "      <td>False</td>\n",
       "      <td>0</td>\n",
       "      <td>Motorbike Clothing</td>\n",
       "    </tr>\n",
       "    <tr>\n",
       "      <th>2443648</th>\n",
       "      <td>2828591</td>\n",
       "      <td>B0BD5FL5FB</td>\n",
       "      <td>Men’s Motorcycle Motorbike Biker Trousers Kevl...</td>\n",
       "      <td>0.0</td>\n",
       "      <td>0</td>\n",
       "      <td>52.99</td>\n",
       "      <td>False</td>\n",
       "      <td>0</td>\n",
       "      <td>Motorbike Clothing</td>\n",
       "    </tr>\n",
       "    <tr>\n",
       "      <th>2443649</th>\n",
       "      <td>2828592</td>\n",
       "      <td>B008OYLL4I</td>\n",
       "      <td>Texpeed Mens Motorcycle Motorbike Biker Trouse...</td>\n",
       "      <td>4.3</td>\n",
       "      <td>404</td>\n",
       "      <td>79.99</td>\n",
       "      <td>False</td>\n",
       "      <td>0</td>\n",
       "      <td>Motorbike Clothing</td>\n",
       "    </tr>\n",
       "    <tr>\n",
       "      <th>2443650</th>\n",
       "      <td>2828593</td>\n",
       "      <td>B08P3W9B3T</td>\n",
       "      <td>RIDEX CJ223 Motorcycle Motorbike Jacket Armour...</td>\n",
       "      <td>4.5</td>\n",
       "      <td>34</td>\n",
       "      <td>53.99</td>\n",
       "      <td>False</td>\n",
       "      <td>0</td>\n",
       "      <td>Motorbike Clothing</td>\n",
       "    </tr>\n",
       "  </tbody>\n",
       "</table>\n",
       "<p>2443651 rows × 9 columns</p>\n",
       "</div>"
      ],
      "text/plain": [
       "             uid        asin  \\\n",
       "0              1  B09B96TG33   \n",
       "1              2  B01HTH3C8S   \n",
       "2              3  B09B8YWXDF   \n",
       "3              4  B09B8T5VGV   \n",
       "4              5  B09WX6QD65   \n",
       "...          ...         ...   \n",
       "2443646  2828589  B0CHSD7P2Q   \n",
       "2443647  2828590  B0B7B8FNBQ   \n",
       "2443648  2828591  B0BD5FL5FB   \n",
       "2443649  2828592  B008OYLL4I   \n",
       "2443650  2828593  B08P3W9B3T   \n",
       "\n",
       "                                                     title  stars  reviews  \\\n",
       "0        Echo Dot (5th generation, 2022 release) | Big ...    4.7    15308   \n",
       "1        Anker Soundcore mini, Super-Portable Bluetooth...    4.7    98099   \n",
       "2        Echo Dot (5th generation, 2022 release) | Big ...    4.7    15308   \n",
       "3        Echo Dot with clock (5th generation, 2022 rele...    4.7     7205   \n",
       "4        Introducing Echo Pop | Full sound compact Wi-F...    4.6     1881   \n",
       "...                                                    ...    ...      ...   \n",
       "2443646  Motorbike Armour, Motorbike Clothing, Cycling ...    0.0        0   \n",
       "2443647  PROFIRST Waterproof Motorcycle 2 Piece Ladies ...    0.0        0   \n",
       "2443648  Men’s Motorcycle Motorbike Biker Trousers Kevl...    0.0        0   \n",
       "2443649  Texpeed Mens Motorcycle Motorbike Biker Trouse...    4.3      404   \n",
       "2443650  RIDEX CJ223 Motorcycle Motorbike Jacket Armour...    4.5       34   \n",
       "\n",
       "         price  isBestSeller  boughtInLastMonth            category  \n",
       "0        21.99         False                  0      Hi-Fi Speakers  \n",
       "1        23.99          True                  0      Hi-Fi Speakers  \n",
       "2        21.99         False                  0      Hi-Fi Speakers  \n",
       "3        31.99         False                  0      Hi-Fi Speakers  \n",
       "4        17.99         False                  0      Hi-Fi Speakers  \n",
       "...        ...           ...                ...                 ...  \n",
       "2443646  22.34         False                  0  Motorbike Clothing  \n",
       "2443647  97.99         False                  0  Motorbike Clothing  \n",
       "2443648  52.99         False                  0  Motorbike Clothing  \n",
       "2443649  79.99         False                  0  Motorbike Clothing  \n",
       "2443650  53.99         False                  0  Motorbike Clothing  \n",
       "\n",
       "[2443651 rows x 9 columns]"
      ]
     },
     "execution_count": 23,
     "metadata": {},
     "output_type": "execute_result"
    }
   ],
   "source": [
    "df"
   ]
  },
  {
   "cell_type": "code",
   "execution_count": null,
   "id": "f7afec58",
   "metadata": {},
   "outputs": [
    {
     "data": {
      "text/plain": [
       "(np.float64(2.152836472966066), np.float64(0.0), np.float64(0.0))"
      ]
     },
     "execution_count": 25,
     "metadata": {},
     "output_type": "execute_result"
    }
   ],
   "source": [
    "# 3.1.1.\n",
    "\n",
    "rating_mean = df['stars'].mean()\n",
    "rating_median = df['stars'].median()\n",
    "rating_mode = df['stars'].mode()[0]\n",
    "\n",
    "rating_mean, rating_median, rating_mode"
   ]
  },
  {
   "cell_type": "code",
   "execution_count": null,
   "id": "f8a959ae",
   "metadata": {},
   "outputs": [],
   "source": [
    "# 3.1.2.\n",
    "\n",
    "# looking at the measures obtained, one can assess that the clients rates are generally low reviews.\n",
    "# With the mode and the median assuming low values (0) the clients reviews clearly have a low rate tendency"
   ]
  },
  {
   "cell_type": "code",
   "execution_count": null,
   "id": "d77019fb",
   "metadata": {},
   "outputs": [
    {
     "name": "stdout",
     "output_type": "stream",
     "text": [
      "4.817432058388496\n",
      "2.1948649294178666\n",
      "5.0\n",
      "4.4\n"
     ]
    }
   ],
   "source": [
    "# 3.2.1.\n",
    "\n",
    "var_rating = df[\"stars\"].var(ddof=0)\n",
    "std_rating = df[\"stars\"].std(ddof=0)\n",
    "\n",
    "min_stars = df[\"stars\"].min()\n",
    "max_stars = df[\"stars\"].max()\n",
    "range_rating = max_stars - min_stars\n",
    "\n",
    "q1, q2, q3 = df[\"stars\"].quantile([0.25, 0.50, 0.75])\n",
    "iqr_rating = q3 - q1\n",
    "\n",
    "\n",
    "print(var_rating) \n",
    "print(std_rating) \n",
    "print(range_rating) \n",
    "print(iqr_rating)"
   ]
  },
  {
   "cell_type": "code",
   "execution_count": null,
   "id": "a912ede9",
   "metadata": {},
   "outputs": [],
   "source": [
    "# There is a very wide variation on customers ratings, showing how customer reviews go from very high to very low\n",
    "# The range shows that the value is the same as the max value (5), indicate that the reviews are highly spread\n"
   ]
  },
  {
   "cell_type": "code",
   "execution_count": 28,
   "id": "e66cb4f8",
   "metadata": {},
   "outputs": [
    {
     "data": {
      "text/plain": [
       "(np.float64(0.08120735761080881), np.float64(-1.9260061280432994))"
      ]
     },
     "execution_count": 28,
     "metadata": {},
     "output_type": "execute_result"
    }
   ],
   "source": [
    "# 3.3.1.\n",
    "\n",
    "skewness_rating = df['stars'].skew()\n",
    "kurtosis_rating = df['stars'].kurtosis()\n",
    "\n",
    "skewness_rating, kurtosis_rating"
   ]
  },
  {
   "cell_type": "code",
   "execution_count": null,
   "id": "4b8665a1",
   "metadata": {},
   "outputs": [],
   "source": [
    "# The positive value of skewness shows a right-skew distribution with a longer tail in the higher ratings,\n",
    "# althought a very slight one, the very is very low with basicly no consider value\n",
    "#\n",
    "# The rating distribution assumes a shape very far from that of a normal distribuiton, with no peak and no tails"
   ]
  },
  {
   "cell_type": "code",
   "execution_count": 29,
   "id": "4f7f5018",
   "metadata": {},
   "outputs": [
    {
     "data": {
      "text/plain": [
       "<Axes: xlabel='stars', ylabel='Count'>"
      ]
     },
     "execution_count": 29,
     "metadata": {},
     "output_type": "execute_result"
    },
    {
     "data": {
      "image/png": "[encoded data removed]",
      "text/plain": [
       "<Figure size 640x480 with 1 Axes>"
      ]
     },
     "metadata": {},
     "output_type": "display_data"
    }
   ],
   "source": [
    "sns.histplot(df['stars'], kde=True, bins=30, color=\"salmon\")"
   ]
  },
  {
   "cell_type": "code",
   "execution_count": null,
   "id": "bfc5118d",
   "metadata": {},
   "outputs": [],
   "source": [
    "# The predominant rating, as seen by the histogram, is 0 stars, with the majority of the reviews falaling in this value"
   ]
  }
 ],
 "metadata": {
  "kernelspec": {
   "display_name": "Python 3",
   "language": "python",
   "name": "python3"
  },
  "language_info": {
   "codemirror_mode": {
    "name": "ipython",
    "version": 3
   },
   "file_extension": ".py",
   "mimetype": "text/x-python",
   "name": "python",
   "nbconvert_exporter": "python",
   "pygments_lexer": "ipython3",
   "version": "3.13.3"
  }
 },
 "nbformat": 4,
 "nbformat_minor": 5
}
